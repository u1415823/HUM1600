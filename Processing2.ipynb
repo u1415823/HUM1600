{
  "nbformat": 4,
  "nbformat_minor": 0,
  "metadata": {
    "colab": {
      "provenance": [],
      "authorship_tag": "ABX9TyMmtvxnFC6Nepk/Jt/Umi6T",
      "include_colab_link": true
    },
    "kernelspec": {
      "name": "python3",
      "display_name": "Python 3"
    },
    "language_info": {
      "name": "python"
    }
  },
  "cells": [
    {
      "cell_type": "markdown",
      "metadata": {
        "id": "view-in-github",
        "colab_type": "text"
      },
      "source": [
        "<a href=\"https://colab.research.google.com/github/u1415823/HUM1600/blob/main/Processing2.ipynb\" target=\"_parent\"><img src=\"https://colab.research.google.com/assets/colab-badge.svg\" alt=\"Open In Colab\"/></a>"
      ]
    },
    {
      "cell_type": "code",
      "execution_count": null,
      "metadata": {
        "id": "CH2lpqBVp7wL"
      },
      "outputs": [],
      "source": [
        "\"\"\"\n",
        "Elijah McCann\n",
        "2/18/2024\n",
        "Built in functions are created by the progam and are always avalible for use. programmer-defined function's have to be assigned by the creator.\n",
        "Void Functions compleate a task and then immeditly end. Value functions are similar except that they have a return statment.\n",
        "\"\"\""
      ]
    },
    {
      "cell_type": "code",
      "source": [
        "# Problem 1\n",
        "numbers = [23, 56, 19, 52, 87, 88, 50, 34, 22, 61, 52, 43, 25, 76, 77, 94]\n",
        "num_of_numbers = len(numbers)\n",
        "max_value = max(numbers)\n",
        "min_value = min(numbers)\n",
        "total_sum = sum(numbers)\n",
        "print(\"Summary Report:\")\n",
        "print(\"---------------\")\n",
        "print(f\"Number of Numbers: {num_of_numbers}\")\n",
        "print(f\"Maximum Value: {max_value}\")\n",
        "print(f\"Minimum Value: {min_value}\")\n",
        "print(f\"Total Sum: {total_sum}\")"
      ],
      "metadata": {
        "id": "dJQUvu6na6_M"
      },
      "execution_count": null,
      "outputs": []
    },
    {
      "cell_type": "code",
      "source": [
        "# Problem 2\n",
        "def print_name_info(first_name, last_name):\n",
        "    print(f\"{first_name} {last_name}\")\n",
        "    print(f\"{last_name}, {first_name}\")\n",
        "    print(f\"{first_name.upper()} {last_name.upper()}\")\n",
        "    print(end=\" \")\n",
        "    for char in f\"{first_name} {last_name}\":\n",
        "        print(char, end=\" \")\n",
        "    print()\n",
        "first_name = input(\"Enter your first name: \")\n",
        "last_name = input(\"Enter your last name: \")\n",
        "print_name_info(first_name, last_name)"
      ],
      "metadata": {
        "id": "gsXiHERkfSq1"
      },
      "execution_count": null,
      "outputs": []
    },
    {
      "cell_type": "code",
      "source": [
        "# Problem 3\n",
        "import random\n",
        "def roll():\n",
        "  return random.randint(1, 6)\n",
        "die = roll()\n",
        "guess_attempts = 3\n",
        "while guess_attempts > 0:\n",
        "    user_guess = int(input(\"Enter guess: \"))\n",
        "    if 1 <= user_guess <= 6:\n",
        "        if user_guess == die:\n",
        "            print(f\"Congratulations.\")\n",
        "            break\n",
        "        else:\n",
        "            print(\"Incorrect\")\n",
        "            guess_attempts -= 1\n",
        "    else:\n",
        "        print(\"Invalid guess. Please enter a number between 1 and 6.\")\n",
        "if guess_attempts == 0:\n",
        "    print(f\"You lost, you've run out of guesses.\")"
      ],
      "metadata": {
        "colab": {
          "base_uri": "https://localhost:8080/"
        },
        "id": "lci-h9lKhouY",
        "outputId": "c6db2926-b605-4efd-f891-b8ff0768669f"
      },
      "execution_count": null,
      "outputs": [
        {
          "output_type": "stream",
          "name": "stdout",
          "text": [
            "Enter guess: 1\n",
            "Incorrect\n",
            "Enter guess: 2\n",
            "Incorrect\n",
            "Enter guess: 3\n",
            "Congratulations.\n"
          ]
        }
      ]
    }
  ]
}