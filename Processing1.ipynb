{
  "nbformat": 4,
  "nbformat_minor": 0,
  "metadata": {
    "colab": {
      "provenance": [],
      "authorship_tag": "ABX9TyNPtZ9mFgb++w4KdBUN3lqL",
      "include_colab_link": true
    },
    "kernelspec": {
      "name": "python3",
      "display_name": "Python 3"
    },
    "language_info": {
      "name": "python"
    }
  },
  "cells": [
    {
      "cell_type": "markdown",
      "metadata": {
        "id": "view-in-github",
        "colab_type": "text"
      },
      "source": [
        "<a href=\"https://colab.research.google.com/github/u1415823/HUM1600/blob/main/Processing1.ipynb\" target=\"_parent\"><img src=\"https://colab.research.google.com/assets/colab-badge.svg\" alt=\"Open In Colab\"/></a>"
      ]
    },
    {
      "cell_type": "code",
      "execution_count": null,
      "metadata": {
        "colab": {
          "base_uri": "https://localhost:8080/",
          "height": 71
        },
        "id": "2sMwNJz_JG0W",
        "outputId": "e50b70bb-1471-4cd3-c671-8f245bafc8ea"
      },
      "outputs": [
        {
          "output_type": "execute_result",
          "data": {
            "text/plain": [
              "'\\nElijah McCann\\n2/18/2024\\nIf decisions happen if something is true, while If-else decisions happen if something is not true. They are often used together because the conmbonation covers all outcomes\\nA condition is a expression that decides whether something is true or false. These are used to control the flow of execution in a project.\\nA while loop happens over and over until a certain condition is met. A for loop happens a certain numer of times. \\n'"
            ],
            "application/vnd.google.colaboratory.intrinsic+json": {
              "type": "string"
            }
          },
          "metadata": {},
          "execution_count": 2
        }
      ],
      "source": [
        "\"\"\"\n",
        "Elijah McCann\n",
        "2/18/2024\n",
        "If decisions happen if something is true, while If-else decisions happen if something is not true. They are often used together because the conmbonation covers all outcomes\n",
        "A condition is a expression that decides whether something is true or false. These are used to control the flow of execution in a project.\n",
        "A while loop happens over and over until a certain condition is met. A for loop happens a certain numer of times.\n",
        "\"\"\""
      ]
    },
    {
      "cell_type": "code",
      "source": [
        "# Problem 1\n",
        "x = input(\"give one number: \")\n",
        "y = input(\"give a different number: \")\n",
        "if x > y:\n",
        "  print(\"X is larger than Y\")"
      ],
      "metadata": {
        "colab": {
          "base_uri": "https://localhost:8080/"
        },
        "id": "8dO6Z1zJTNzW",
        "outputId": "5361d476-94b4-4caa-edf3-abea3c8a76a0"
      },
      "execution_count": null,
      "outputs": [
        {
          "output_type": "stream",
          "name": "stdout",
          "text": [
            "give one number: 9\n",
            "give a different number: 2\n",
            "X is larger than Y\n"
          ]
        }
      ]
    },
    {
      "cell_type": "code",
      "source": [
        "# Problem 2\n",
        "x = input(\"give one number for X: \")\n",
        "y = input(\"give a different number for Y: \")\n",
        "if x > y:\n",
        "  print(\"X is larger than Y\")\n",
        "else:\n",
        "  print(\"Y is larger than X\")"
      ],
      "metadata": {
        "colab": {
          "base_uri": "https://localhost:8080/"
        },
        "id": "W945_vsNU5at",
        "outputId": "1656a5f1-5fa6-4689-d874-cd6e1bc550e8"
      },
      "execution_count": null,
      "outputs": [
        {
          "output_type": "stream",
          "name": "stdout",
          "text": [
            "give one number for X: 2\n",
            "give a different number for Y: 9\n",
            "Y is larger than X\n"
          ]
        }
      ]
    },
    {
      "cell_type": "code",
      "source": [
        "# Problem 3\n",
        "x = input(\"give one number for X: \")\n",
        "y = input(\"give a different number for Y: \")\n",
        "if x > y:\n",
        "  print(\"X is larger than Y\")\n",
        "elif x == y:\n",
        "  print(\"X and Y are equal\")\n",
        "else:\n",
        "  print(\"Y is larger than X\")"
      ],
      "metadata": {
        "id": "o_ZrxRufVqKX"
      },
      "execution_count": null,
      "outputs": []
    },
    {
      "cell_type": "code",
      "source": [
        "# Problem 4\n",
        "x = 1\n",
        "while x < 101:\n",
        "    print(x)\n",
        "    x = x + 1\n",
        "x = 100\n",
        "while x > 0:\n",
        "    print(x)\n",
        "    x -= 1"
      ],
      "metadata": {
        "id": "Kmw-ETQ_XGpI"
      },
      "execution_count": null,
      "outputs": []
    },
    {
      "cell_type": "code",
      "source": [
        "# Problem 5\n",
        "for x in (range(1, 101)):\n",
        "    print(x)\n",
        "for x in (range(1, 101)):\n",
        "    print(101-x)"
      ],
      "metadata": {
        "id": "4dTea9FEWGHr"
      },
      "execution_count": null,
      "outputs": []
    },
    {
      "cell_type": "code",
      "source": [
        "# Problem 6\n",
        "for x in (range(10, 101)):\n",
        "    print(x)"
      ],
      "metadata": {
        "id": "AEXLVWdob2gi"
      },
      "execution_count": null,
      "outputs": []
    },
    {
      "cell_type": "code",
      "source": [
        "# Problem 7\n",
        "for x in (range(10, 101, 10)):\n",
        "    print(x)"
      ],
      "metadata": {
        "id": "buirxR-RcHVT"
      },
      "execution_count": null,
      "outputs": []
    },
    {
      "cell_type": "code",
      "source": [
        "# Problem 8\n",
        "y = [\"Bob\", \"Smith\", \"1234 Noplace Street\", \"Nowhere\", \"UT\", \"84999\"]\n",
        "for x in y:\n",
        "  print(x)"
      ],
      "metadata": {
        "id": "DSOEtz52czK6"
      },
      "execution_count": null,
      "outputs": []
    },
    {
      "cell_type": "code",
      "source": [
        "# Problem 9\n",
        "while True:\n",
        "    age = input(\"Please enter your age: \")\n",
        "    try:\n",
        "        age = int(age)\n",
        "    except:\n",
        "        print('Error: Please use only digits 0 thru 9.')\n",
        "        continue\n",
        "    if age < 1 or age > 125:\n",
        "        print('Error: Valid age range is 1 thru 125.')\n",
        "        continue\n",
        "    break\n",
        "print('Your age is', age, sep=\" \")"
      ],
      "metadata": {
        "colab": {
          "base_uri": "https://localhost:8080/"
        },
        "id": "_FKmE0KqfJMh",
        "outputId": "e60eade4-6025-4085-92e7-4416890fa64e"
      },
      "execution_count": null,
      "outputs": [
        {
          "output_type": "stream",
          "name": "stdout",
          "text": [
            "Please enter your age: 3792474\n",
            "Error: Valid age range is 1 thru 125.\n",
            "Please enter your age: 5\n",
            "Your age is 5\n"
          ]
        }
      ]
    }
  ]
}